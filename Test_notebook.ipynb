{
 "cells": [
  {
   "cell_type": "markdown",
   "id": "3c7e71dd",
   "metadata": {},
   "source": [
    "## RedisDB"
   ]
  },
  {
   "cell_type": "code",
   "execution_count": 1,
   "id": "6df057be",
   "metadata": {},
   "outputs": [],
   "source": [
    "import redis\n",
    "import json\n",
    "import pandas as pd\n",
    "import RedisDB\n",
    "import matplotlib.pyplot as plt\n",
    "plt.rcParams['figure.dpi'] = 300"
   ]
  },
  {
   "cell_type": "code",
   "execution_count": 2,
   "id": "a0e2ec30",
   "metadata": {},
   "outputs": [],
   "source": [
    "rdb = RedisDB.RedisDB()"
   ]
  },
  {
   "cell_type": "code",
   "execution_count": 3,
   "id": "00b2c742",
   "metadata": {},
   "outputs": [],
   "source": [
    "pool = redis.ConnectionPool(host='localhost',  port=6379, decode_responses=True)\n",
    "r = redis.Redis(connection_pool=pool)"
   ]
  },
  {
   "cell_type": "code",
   "execution_count": 4,
   "id": "74373268",
   "metadata": {},
   "outputs": [],
   "source": [
    "Get = RedisDB.RedisGet()"
   ]
  },
  {
   "cell_type": "code",
   "execution_count": 5,
   "id": "1efdff2d",
   "metadata": {},
   "outputs": [
    {
     "ename": "AttributeError",
     "evalue": "'RedisGet' object has no attribute 'my_dic'",
     "output_type": "error",
     "traceback": [
      "\u001B[1;31m---------------------------------------------------------------------------\u001B[0m",
      "\u001B[1;31mAttributeError\u001B[0m                            Traceback (most recent call last)",
      "\u001B[1;32m<ipython-input-5-85dde34ba35c>\u001B[0m in \u001B[0;36m<module>\u001B[1;34m\u001B[0m\n\u001B[1;32m----> 1\u001B[1;33m \u001B[0mGet\u001B[0m\u001B[1;33m.\u001B[0m\u001B[0mcal_topic_index_rtn\u001B[0m\u001B[1;33m(\u001B[0m\u001B[1;33m)\u001B[0m\u001B[1;33m\u001B[0m\u001B[1;33m\u001B[0m\u001B[0m\n\u001B[0m",
      "\u001B[1;32mD:\\Pzh\\core\\RedisDB.py\u001B[0m in \u001B[0;36mcal_topic_index_rtn\u001B[1;34m(self)\u001B[0m\n\u001B[0;32m     70\u001B[0m             \u001B[1;32mfor\u001B[0m \u001B[0mctt\u001B[0m \u001B[1;32min\u001B[0m \u001B[0mct_tickers\u001B[0m\u001B[1;33m:\u001B[0m\u001B[1;33m\u001B[0m\u001B[1;33m\u001B[0m\u001B[0m\n\u001B[0;32m     71\u001B[0m                 \u001B[1;32mif\u001B[0m \u001B[0mctt\u001B[0m\u001B[1;33m.\u001B[0m\u001B[0mstartswith\u001B[0m\u001B[1;33m(\u001B[0m\u001B[1;34m'sh8'\u001B[0m\u001B[1;33m)\u001B[0m\u001B[1;33m:\u001B[0m \u001B[1;32mcontinue\u001B[0m  \u001B[1;31m# 北交所的票忽略\u001B[0m\u001B[1;33m\u001B[0m\u001B[1;33m\u001B[0m\u001B[0m\n\u001B[1;32m---> 72\u001B[1;33m                 \u001B[0mctt_rtn\u001B[0m \u001B[1;33m=\u001B[0m \u001B[0mself\u001B[0m\u001B[1;33m.\u001B[0m\u001B[0mmy_dic\u001B[0m\u001B[1;33m[\u001B[0m\u001B[0mctt\u001B[0m\u001B[1;33m]\u001B[0m\u001B[1;33m[\u001B[0m\u001B[1;34m'now'\u001B[0m\u001B[1;33m]\u001B[0m \u001B[1;33m/\u001B[0m \u001B[0mself\u001B[0m\u001B[1;33m.\u001B[0m\u001B[0mmy_dic\u001B[0m\u001B[1;33m[\u001B[0m\u001B[0mctt\u001B[0m\u001B[1;33m]\u001B[0m\u001B[1;33m[\u001B[0m\u001B[1;34m'close'\u001B[0m\u001B[1;33m]\u001B[0m \u001B[1;33m-\u001B[0m \u001B[1;36m1\u001B[0m\u001B[1;33m\u001B[0m\u001B[1;33m\u001B[0m\u001B[0m\n\u001B[0m\u001B[0;32m     73\u001B[0m                 \u001B[0mct_rtns\u001B[0m\u001B[1;33m.\u001B[0m\u001B[0mappend\u001B[0m\u001B[1;33m(\u001B[0m\u001B[0mctt_rtn\u001B[0m\u001B[1;33m)\u001B[0m\u001B[1;33m\u001B[0m\u001B[1;33m\u001B[0m\u001B[0m\n\u001B[0;32m     74\u001B[0m             \u001B[1;31m# print(ct,np.mean(ct_rtns))\u001B[0m\u001B[1;33m\u001B[0m\u001B[1;33m\u001B[0m\u001B[1;33m\u001B[0m\u001B[0m\n",
      "\u001B[1;31mAttributeError\u001B[0m: 'RedisGet' object has no attribute 'my_dic'"
     ]
    }
   ],
   "source": [
    "Get.cal_topic_index_rtn()"
   ]
  },
  {
   "cell_type": "code",
   "execution_count": null,
   "id": "35f6b001",
   "metadata": {},
   "outputs": [],
   "source": [
    "stk_list = Get.get_stk_list()"
   ]
  },
  {
   "cell_type": "code",
   "execution_count": null,
   "id": "faad0ade",
   "metadata": {},
   "outputs": [],
   "source": [
    "len(stk_list)"
   ]
  },
  {
   "cell_type": "code",
   "execution_count": null,
   "id": "8ab567c4",
   "metadata": {},
   "outputs": [],
   "source": [
    "Get.get_stk(['sz000001'])"
   ]
  },
  {
   "cell_type": "code",
   "execution_count": null,
   "id": "37bcdc29",
   "metadata": {},
   "outputs": [],
   "source": [
    "pd.DataFrame(Get.mDataDict).transpose().sort_index()"
   ]
  },
  {
   "cell_type": "code",
   "execution_count": null,
   "id": "54353ffb",
   "metadata": {},
   "outputs": [],
   "source": [
    "df = Get.mDataFrame.sort_index()"
   ]
  },
  {
   "cell_type": "code",
   "execution_count": null,
   "id": "aa0b24eb",
   "metadata": {
    "scrolled": true
   },
   "outputs": [],
   "source": [
    "df"
   ]
  },
  {
   "cell_type": "code",
   "execution_count": null,
   "id": "7cf97712",
   "metadata": {},
   "outputs": [],
   "source": [
    "# 计算vol\n",
    "df_1['vol'] = df_1['volume'].diff(1)\n",
    "df_1['vol'][0] = df_1['volume'][0]"
   ]
  },
  {
   "cell_type": "code",
   "execution_count": null,
   "id": "9ad2c8f9",
   "metadata": {},
   "outputs": [],
   "source": [
    "# 计算vwap\n",
    "def vwap(df):\n",
    "    v = df['vol'].values\n",
    "    tp = (df['low'] + df['now'] + df['high']).div(3).values\n",
    "    return df.assign(vwap=(tp*v).cumsum()/v.cumsum())\n",
    "df_1 = vwap(df_1)"
   ]
  },
  {
   "cell_type": "code",
   "execution_count": null,
   "id": "503f0016",
   "metadata": {
    "scrolled": true
   },
   "outputs": [],
   "source": [
    "df_1[['high','low','now','vwap']].plot(figsize=[20,3],color = color_lst)"
   ]
  },
  {
   "cell_type": "code",
   "execution_count": null,
   "id": "7caa153f",
   "metadata": {},
   "outputs": [],
   "source": [
    "import datetime"
   ]
  },
  {
   "cell_type": "code",
   "execution_count": null,
   "id": "44249ff5",
   "metadata": {},
   "outputs": [],
   "source": [
    "r.config_set('dir','D:\\\\Pzh\\\\RedisData')\n",
    "date_str = str(datetime.date.today())\n",
    "r.config_set('dbfilename',date_str+'.rdb')"
   ]
  },
  {
   "cell_type": "code",
   "execution_count": null,
   "id": "ee686c03",
   "metadata": {},
   "outputs": [],
   "source": [
    "r.save()"
   ]
  },
  {
   "cell_type": "markdown",
   "id": "ee2e1228",
   "metadata": {},
   "source": [
    "## Quotation"
   ]
  },
  {
   "cell_type": "code",
   "execution_count": null,
   "id": "9c149e74",
   "metadata": {},
   "outputs": [],
   "source": [
    "%pip install WindPy"
   ]
  },
  {
   "cell_type": "code",
   "execution_count": null,
   "id": "11969e72",
   "metadata": {},
   "outputs": [],
   "source": [
    "import os,time\n",
    "from datetime import datetime\n",
    "import numpy as np\n",
    "import pandas as pd\n",
    "import easyquotation\n",
    "#import deal_topic as dt\n",
    "from loguru import logger"
   ]
  },
  {
   "cell_type": "code",
   "execution_count": null,
   "id": "620942a1",
   "metadata": {},
   "outputs": [],
   "source": [
    "quotation = easyquotation.use('sina') # 新浪 ['sina'] 腾讯 ['tencent', 'qq']\n",
    "last_snap = quotation.market_snapshot(prefix=True)\n",
    "\n",
    "def cal_topic_index_rtn(chinese_topics,last_snapshort):\n",
    "    # 计算结果和wind的一样\n",
    "    top_index_rtn = dict()\n",
    "    for ct in chinese_topics:\n",
    "        ct_tickers = chinese_topics[ct]\n",
    "        ct_rtns = list()\n",
    "        for ctt in ct_tickers:\n",
    "            if ctt.startswith('sh8'):continue  # 北交所的票忽略\n",
    "            ctt_rtn = last_snapshort[ctt]['now']/last_snapshort[ctt]['close']-1\n",
    "            ct_rtns.append(ctt_rtn)\n",
    "        # print(ct,np.mean(ct_rtns))\n",
    "        top_index_rtn[ct] = np.mean(ct_rtns)\n",
    "    return top_index_rtn"
   ]
  },
  {
   "cell_type": "code",
   "execution_count": null,
   "id": "a4352c17",
   "metadata": {},
   "outputs": [],
   "source": [
    "import os,time\n",
    "import numpy as np\n",
    "import pandas as pd\n",
    "\n",
    "\n",
    "def deal_for_easyquotation():\n",
    "    # 处理成easyquotation能读取的格式\n",
    "\n",
    "    chinese_map = pd.read_csv('./txt/top_chinese_map.csv',encoding='gbk')\n",
    "    chinese_map = dict(zip(list(chinese_map.iloc[:,0]),list(chinese_map.iloc[:,1])))\n",
    "    topics = os.listdir(r\"./topic\")\n",
    "    chinese_topics = dict()\n",
    "    for topi in topics:\n",
    "        topi_data = pd.read_csv(fr\"./topic/{topi}\")\n",
    "        tickers = ['sz'+t[:6] if t[-1]=='Z' else 'sh'+t[:6] for t in topi_data['1'].values]\n",
    "        chinese_topics[chinese_map[topi.split('.')[0]]] = tickers\n",
    "    return chinese_topics\n"
   ]
  },
  {
   "cell_type": "code",
   "execution_count": null,
   "id": "4317b555",
   "metadata": {},
   "outputs": [],
   "source": [
    "chinese_topics = deal_for_easyquotation()"
   ]
  },
  {
   "cell_type": "code",
   "execution_count": null,
   "id": "8e90c8a6",
   "metadata": {},
   "outputs": [],
   "source": [
    "cal_topic_index_rtn(chinese_topics,last_snap)"
   ]
  },
  {
   "cell_type": "code",
   "execution_count": null,
   "id": "06dbe50a",
   "metadata": {},
   "outputs": [],
   "source": [
    "topics = os.listdir(r\"./topic\")\n",
    "for topi in topics:\n",
    "    topi_data = pd.read_csv(fr\"./topic/{topi}\")\n",
    "        "
   ]
  },
  {
   "cell_type": "code",
   "execution_count": null,
   "id": "7a05f582",
   "metadata": {},
   "outputs": [],
   "source": [
    "topi_data"
   ]
  },
  {
   "cell_type": "code",
   "execution_count": null,
   "id": "c47efe9f",
   "metadata": {},
   "outputs": [],
   "source": []
  }
 ],
 "metadata": {
  "kernelspec": {
   "display_name": "Python 3",
   "language": "python",
   "name": "python3"
  },
  "language_info": {
   "codemirror_mode": {
    "name": "ipython",
    "version": 3
   },
   "file_extension": ".py",
   "mimetype": "text/x-python",
   "name": "python",
   "nbconvert_exporter": "python",
   "pygments_lexer": "ipython3",
   "version": "3.8.8"
  }
 },
 "nbformat": 4,
 "nbformat_minor": 5
}